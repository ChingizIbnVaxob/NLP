{
  "nbformat": 4,
  "nbformat_minor": 0,
  "metadata": {
    "colab": {
      "provenance": [],
      "authorship_tag": "ABX9TyME95bTpaSJopwUg517PoVd",
      "include_colab_link": true
    },
    "kernelspec": {
      "name": "python3",
      "display_name": "Python 3"
    },
    "language_info": {
      "name": "python"
    }
  },
  "cells": [
    {
      "cell_type": "markdown",
      "metadata": {
        "id": "view-in-github",
        "colab_type": "text"
      },
      "source": [
        "<a href=\"https://colab.research.google.com/github/ChingizIbnVaxob/NLP/blob/main/audio_feature_extraction.ipynb\" target=\"_parent\"><img src=\"https://colab.research.google.com/assets/colab-badge.svg\" alt=\"Open In Colab\"/></a>"
      ]
    },
    {
      "cell_type": "code",
      "source": [
        "import warnings\n",
        "warnings.filterwarnings('ignore')"
      ],
      "metadata": {
        "id": "R6NC0yIj7v48"
      },
      "execution_count": 62,
      "outputs": []
    },
    {
      "cell_type": "code",
      "execution_count": 63,
      "metadata": {
        "id": "qVTuX1y0WWab"
      },
      "outputs": [],
      "source": [
        "import librosa\n",
        "import pandas as pd\n",
        "import os\n",
        "from scipy.stats import kurtosis, mode"
      ]
    },
    {
      "cell_type": "code",
      "source": [
        "def extract_mean_features(y, sr=22050):\n",
        "  return librosa.feature.spectral_centroid(y=y, sr=sr).mean()"
      ],
      "metadata": {
        "id": "C6cJe_NUi4LI"
      },
      "execution_count": 64,
      "outputs": []
    },
    {
      "cell_type": "code",
      "source": [
        "audio_file = \"/content/clips/download (3).mp4\""
      ],
      "metadata": {
        "id": "DSk-xRzoknB3"
      },
      "execution_count": 65,
      "outputs": []
    },
    {
      "cell_type": "code",
      "source": [
        "data, r = librosa.load(audio_file)"
      ],
      "metadata": {
        "id": "TwNgaAiZkx9n"
      },
      "execution_count": 66,
      "outputs": []
    },
    {
      "cell_type": "code",
      "source": [
        "data"
      ],
      "metadata": {
        "colab": {
          "base_uri": "https://localhost:8080/"
        },
        "id": "FDZNnjy4k0tP",
        "outputId": "cfe11e60-06a5-4ff2-f5cd-eecc6465c38b"
      },
      "execution_count": 67,
      "outputs": [
        {
          "output_type": "execute_result",
          "data": {
            "text/plain": [
              "array([-0.00145933, -0.00230369, -0.00272832, ..., -0.00234083,\n",
              "       -0.00199465, -0.00194032], dtype=float32)"
            ]
          },
          "metadata": {},
          "execution_count": 67
        }
      ]
    },
    {
      "cell_type": "code",
      "source": [
        "meanfreq = extract_mean_features(data)"
      ],
      "metadata": {
        "id": "xEbnZc34k5H_"
      },
      "execution_count": 68,
      "outputs": []
    },
    {
      "cell_type": "code",
      "source": [
        "meanfreq"
      ],
      "metadata": {
        "colab": {
          "base_uri": "https://localhost:8080/"
        },
        "id": "qMevi3iwlZla",
        "outputId": "bd0f9069-7d2f-4118-b0ba-ba8712517343"
      },
      "execution_count": 69,
      "outputs": [
        {
          "output_type": "execute_result",
          "data": {
            "text/plain": [
              "1520.9061750735104"
            ]
          },
          "metadata": {},
          "execution_count": 69
        }
      ]
    },
    {
      "cell_type": "code",
      "source": [
        "def extract_standart_deviation(y, sr=22050):\n",
        "  return librosa.feature.spectral_centroid(y=y, sr=sr).std()"
      ],
      "metadata": {
        "id": "b2pEUDzVlajE"
      },
      "execution_count": 70,
      "outputs": []
    },
    {
      "cell_type": "code",
      "source": [
        "def exctact_median(y, sr=22050):\n",
        "  return librosa.feature.spectral_centroid(y=y, sr=sr)[0]"
      ],
      "metadata": {
        "id": "LZDeRq6QlhKE"
      },
      "execution_count": 71,
      "outputs": []
    },
    {
      "cell_type": "code",
      "source": [
        "def extract_kurtosis(y):\n",
        "  return kurtosis(y)"
      ],
      "metadata": {
        "id": "HiOwIEZHlwNq"
      },
      "execution_count": 72,
      "outputs": []
    },
    {
      "cell_type": "code",
      "source": [
        "def extract_spectral_flatness(y):\n",
        "  return librosa.feature.spectral_flatness(y=y).mean()\n",
        "\n",
        "def extract_mode(y):\n",
        "  return mode(y)[0]\n",
        "\n",
        "def extract_centroid(y, sr):\n",
        "  return librosa.feature.spectral_centroid(y=y, sr=sr).mean()\n",
        "\n",
        "def extract_peak(y, sr):\n",
        "  return librosa.feature.spectral_centroid(y=y, sr=sr).max()\n",
        "\n",
        "def extract_mean_function(y, sr):\n",
        "  return librosa.feature.mfcc(y=y, sr=sr)[0].mean()\n",
        "\n",
        "def extract_min_function(y, sr):\n",
        "  return librosa.feature.mfcc(y=y, sr=sr).min()\n",
        "\n",
        "def extract_max_function(y, sr):\n",
        "  return librosa.feature.mfcc(y=y, sr=sr).max()\n",
        "\n",
        "def extract_mean_dom(y, sr):\n",
        "  return librosa.feature.spectral_bandwidth(y=y, sr=sr).mean()\n",
        "\n",
        "def extract_minimum_dom(y, sr):\n",
        "  return librosa.feature.spectral_bandwidth(y=y, sr=sr).min()\n",
        "\n",
        "def extract_maximum_dom(y, sr):\n",
        "  return librosa.feature.spectral_bandwidth(y=y, sr=sr).max()\n",
        "\n",
        "def extract_dfrange(maxdom, mindom):\n",
        "  return maxdom - mindom\n",
        "\n",
        "def extract_modindx(y, sr):\n",
        "  return librosa.feature.tempogram(y=y, sr=sr).mean()"
      ],
      "metadata": {
        "id": "1X9EbRj1mTEw"
      },
      "execution_count": 73,
      "outputs": []
    },
    {
      "cell_type": "code",
      "source": [
        "def extract_features(audio_file):\n",
        "  audio, sr = librosa.load(audio_file)\n",
        "\n",
        "  meanfreq = extract_mean_features(audio, sr)\n",
        "  std = extract_standart_deviation(audio, sr)\n",
        "  median = exctact_median(audio, sr)\n",
        "  kurtosis = extract_kurtosis(audio)\n",
        "  spectral_flatness = extract_spectral_flatness(audio)\n",
        "  mode_ = extract_mode(audio)\n",
        "  centroid = extract_centroid(audio, sr)\n",
        "  peakfreq = extract_peak(audio, sr)\n",
        "  meanfun = extract_mean_function(audio, sr)\n",
        "  minfun = extract_min_function(audio, sr)\n",
        "  maxfun = extract_max_function(audio, sr)\n",
        "  meandom = extract_mean_dom(audio, sr)\n",
        "  mindom = extract_minimum_dom(audio, sr)\n",
        "  maxdom = extract_maximum_dom(audio, sr)\n",
        "  dfrange = extract_dfrange(maxdom, mindom)\n",
        "  modindx = extract_modindx(audio, sr)\n",
        "\n",
        "\n",
        "  features = {\n",
        "      'meanfreq': meanfreq,\n",
        "      'std': std,\n",
        "      'median': median,\n",
        "      'kurtosis': kurtosis,\n",
        "      'spectral_flatness': spectral_flatness,\n",
        "      'mode': mode_,\n",
        "      'centroid': centroid,\n",
        "      'peakfreq': peakfreq,\n",
        "      'meanfun': meanfun,\n",
        "      'minfun': minfun,\n",
        "      'maxfun': maxfun,\n",
        "      'meandom': meandom,\n",
        "      'mindom': mindom,\n",
        "      'maxdom': maxdom,\n",
        "      'dfrange': dfrange,\n",
        "      'modindx': modindx\n",
        "  }\n",
        "\n",
        "  return features\n",
        ""
      ],
      "metadata": {
        "id": "a8wsCbdg1av0"
      },
      "execution_count": 74,
      "outputs": []
    },
    {
      "cell_type": "code",
      "source": [
        "def process_audio_directory(input_dir, output_dir):\n",
        "  features_list = []\n",
        "\n",
        "  for filename in os.listdir(input_dir):\n",
        "    if filename.endswith(\".mp4\"):\n",
        "      audio_file = os.path.join(input_dir, filename)\n",
        "      features = extract_features(audio_file)\n",
        "      features_list.append(features)\n",
        "\n",
        "  df = pd.DataFrame(features_list)\n",
        "\n",
        "  df.to_csv(output_dir, index=False)\n",
        "\n",
        "input_directory = 'clips/'\n",
        "output_directory = 'features.csv'\n",
        "\n",
        "process_audio_directory(input_directory, output_directory)"
      ],
      "metadata": {
        "id": "pvSwNncK3eFe"
      },
      "execution_count": 75,
      "outputs": []
    },
    {
      "cell_type": "code",
      "source": [],
      "metadata": {
        "id": "hiSwt8VA5Sc5"
      },
      "execution_count": 75,
      "outputs": []
    }
  ]
}